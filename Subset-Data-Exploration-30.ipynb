{
 "cells": [
  {
   "cell_type": "code",
   "execution_count": 1,
   "id": "ad56f12b",
   "metadata": {},
   "outputs": [],
   "source": [
    "import pandas as pd\n",
    "import seaborn as sns\n",
    "import matplotlib.pyplot as plt\n",
    "import numpy as np\n",
    "\n",
    "from sklearn.preprocessing import LabelEncoder, MinMaxScaler\n",
    "from sklearn.model_selection import train_test_split\n",
    "\n",
    "from sklearn.tree import DecisionTreeClassifier\n",
    "from sklearn import svm \n",
    "\n",
    "from sklearn.metrics import classification_report, accuracy_score, mean_absolute_error, mean_squared_error, mean_squared_error\n",
    "\n",
    "\n"
   ]
  },
  {
   "cell_type": "code",
   "execution_count": 2,
   "id": "48916318",
   "metadata": {},
   "outputs": [
    {
     "data": {
      "text/plain": [
       "(546484, 87)"
      ]
     },
     "execution_count": 2,
     "metadata": {},
     "output_type": "execute_result"
    }
   ],
   "source": [
    "#Read Subset 30 Data\n",
    "dataset = pd.read_csv(\"/Users/mourin/Study/Courses/6180/Project/CICMalAnal2017/Data-Exploration/subset_dataset_30.csv\",low_memory=False)\n",
    "dataset.shape"
   ]
  },
  {
   "cell_type": "code",
   "execution_count": 3,
   "id": "2dbc80ba",
   "metadata": {},
   "outputs": [
    {
     "name": "stdout",
     "output_type": "stream",
     "text": [
      "{int64: ['Item_ID', 'Unnamed: 0.1', 'Unnamed: 0'], float64: [' Source Port', ' Destination Port', ' Protocol', ' Flow Duration', ' Total Fwd Packets', ' Total Backward Packets', 'Total Length of Fwd Packets', ' Total Length of Bwd Packets', ' Fwd Packet Length Max', ' Fwd Packet Length Min', ' Fwd Packet Length Mean', ' Fwd Packet Length Std', 'Bwd Packet Length Max', ' Bwd Packet Length Min', ' Bwd Packet Length Mean', ' Bwd Packet Length Std', 'Flow Bytes/s', ' Flow Packets/s', ' Flow IAT Mean', ' Flow IAT Std', ' Flow IAT Max', ' Flow IAT Min', 'Fwd IAT Total', ' Fwd IAT Mean', ' Fwd IAT Std', ' Fwd IAT Max', ' Fwd IAT Min', 'Bwd IAT Total', ' Bwd IAT Mean', ' Bwd IAT Std', ' Bwd IAT Max', ' Bwd IAT Min', 'Fwd PSH Flags', ' Bwd PSH Flags', ' Fwd URG Flags', ' Bwd URG Flags', ' Fwd Header Length', ' Bwd Header Length', 'Fwd Packets/s', ' Bwd Packets/s', ' Min Packet Length', ' Max Packet Length', ' Packet Length Mean', ' Packet Length Variance', 'FIN Flag Count', ' SYN Flag Count', ' RST Flag Count', ' PSH Flag Count', ' ACK Flag Count', ' URG Flag Count', ' ECE Flag Count', ' Down/Up Ratio', ' Average Packet Size', ' Avg Fwd Segment Size', ' Avg Bwd Segment Size', ' Fwd Header Length.1', ' Fwd Avg Packets/Bulk', ' Fwd Avg Bulk Rate', ' Bwd Avg Bytes/Bulk', ' Bwd Avg Packets/Bulk', 'Bwd Avg Bulk Rate', 'Subflow Fwd Packets', ' Subflow Fwd Bytes', ' Subflow Bwd Packets', ' Subflow Bwd Bytes', 'Init_Win_bytes_forward', ' Init_Win_bytes_backward', ' act_data_pkt_fwd', ' min_seg_size_forward', 'Active Mean', ' Active Std', ' Active Max', ' Active Min', 'Idle Mean', ' Idle Std', ' Idle Max', ' Idle Min'], object: ['Flow ID', ' Source IP', ' Destination IP', ' Timestamp', ' Packet Length Std', ' CWE Flag Count', 'Fwd Avg Bytes/Bulk', ' Label']}\n"
     ]
    }
   ],
   "source": [
    "#Preprocessing : Add item id column\n",
    "dataset = dataset.reset_index()\n",
    "dataset = dataset.rename(columns={\"index\":\"Item_ID\"})\n",
    "dataset['Item_ID'] = dataset.index + 1\n",
    "\n",
    "dtypes_by_group = dataset.columns.to_series().groupby(dataset.dtypes).groups\n",
    "print(dtypes_by_group)"
   ]
  },
  {
   "cell_type": "code",
   "execution_count": 4,
   "id": "17b1f889",
   "metadata": {},
   "outputs": [
    {
     "name": "stdout",
     "output_type": "stream",
     "text": [
      "{int64: ['Item_ID', 'Unnamed: 0.1', 'Unnamed: 0'], float64: ['Source Port', 'Destination Port', 'Protocol', 'Flow Duration', 'Total Fwd Packets', 'Total Backward Packets', 'Total Length of Fwd Packets', 'Total Length of Bwd Packets', 'Fwd Packet Length Max', 'Fwd Packet Length Min', 'Fwd Packet Length Mean', 'Fwd Packet Length Std', 'Bwd Packet Length Max', 'Bwd Packet Length Min', 'Bwd Packet Length Mean', 'Bwd Packet Length Std', 'Flow Bytes/s', 'Flow Packets/s', 'Flow IAT Mean', 'Flow IAT Std', 'Flow IAT Max', 'Flow IAT Min', 'Fwd IAT Total', 'Fwd IAT Mean', 'Fwd IAT Std', 'Fwd IAT Max', 'Fwd IAT Min', 'Bwd IAT Total', 'Bwd IAT Mean', 'Bwd IAT Std', 'Bwd IAT Max', 'Bwd IAT Min', 'Fwd PSH Flags', 'Bwd PSH Flags', 'Fwd URG Flags', 'Bwd URG Flags', 'Fwd Header Length', 'Bwd Header Length', 'Fwd Packets/s', 'Bwd Packets/s', 'Min Packet Length', 'Max Packet Length', 'Packet Length Mean', 'Packet Length Variance', 'FIN Flag Count', 'SYN Flag Count', 'RST Flag Count', 'PSH Flag Count', 'ACK Flag Count', 'URG Flag Count', 'ECE Flag Count', 'Down/Up Ratio', 'Average Packet Size', 'Avg Fwd Segment Size', 'Avg Bwd Segment Size', 'Fwd Header Length.1', 'Fwd Avg Packets/Bulk', 'Fwd Avg Bulk Rate', 'Bwd Avg Bytes/Bulk', 'Bwd Avg Packets/Bulk', 'Bwd Avg Bulk Rate', 'Subflow Fwd Packets', 'Subflow Fwd Bytes', 'Subflow Bwd Packets', 'Subflow Bwd Bytes', 'Init_Win_bytes_forward', 'Init_Win_bytes_backward', 'act_data_pkt_fwd', 'min_seg_size_forward', 'Active Mean', 'Active Std', 'Active Max', 'Active Min', 'Idle Mean', 'Idle Std', 'Idle Max', 'Idle Min'], object: ['Flow ID', 'Source IP', 'Destination IP', 'Timestamp', 'Packet Length Std', 'CWE Flag Count', 'Fwd Avg Bytes/Bulk', 'Label']}\n"
     ]
    }
   ],
   "source": [
    "#Remove Spaces from Column Name\n",
    "dataset.columns = dataset.columns.str.strip()\n",
    "dtypes_by_group = dataset.columns.to_series().groupby(dataset.dtypes).groups\n",
    "print(dtypes_by_group)"
   ]
  },
  {
   "cell_type": "code",
   "execution_count": 5,
   "id": "398e9245",
   "metadata": {},
   "outputs": [
    {
     "data": {
      "text/plain": [
       "BENIGN                       124737\n",
       "ADWARE_GOOLIGAN               28054\n",
       "SCAREWARE_ANDROIDDEFENDER     17069\n",
       "ADWARE_FEIWO                  16891\n",
       "RANSOMWARE_SVPENG             16169\n",
       "RANSOMWARE_PORNDROID          13813\n",
       "RANSOMWARE_KOLER              13422\n",
       "SCAREWARE_FAKEAPPAL           13315\n",
       "SMSMALWARE_NANDROBOX          13292\n",
       "ADWARE_EWIND                  12989\n",
       "SCAREWARE_AVFORANDROID        12810\n",
       "SMSMALWARE_PLANKTON           12088\n",
       "SCAREWARE_AVPASS              12047\n",
       "RANSOMWARE_RANSOMBO           11994\n",
       "SCAREWARE_FAKEAV              11966\n",
       "RANSOMWARE_CHARGER            11912\n",
       "ADWARE_DOWGIN                 11821\n",
       "ADWARE_SHUANET                11742\n",
       "ADWARE_KEMOGE                 11575\n",
       "RANSOMWARE_SIMPLOCKER         10842\n",
       "ADWARE_YOUMI                  10812\n",
       "SCAREWARE_FAKEAPP             10564\n",
       "SMSMALWARE_SMSSNIFFER         10190\n",
       "SMSMALWARE_BIIGE              10102\n",
       "SCAREWARE_FAKETAOBAO           9880\n",
       "RANSOMWARE_WANNALOCKER         9747\n",
       "ADWARE_KOODOUS                 9731\n",
       "ADWARE_MOBIDASH                9195\n",
       "SCAREWARE_FAKEJOBOFFER         9013\n",
       "RANSOMWARE_JISUT               7754\n",
       "RANSOMWARE_LOCKERPIN           7695\n",
       "SCAREWARE_ANDROIDSPY           7674\n",
       "SCAREWARE_VIRUSSHIELD          7094\n",
       "SMSMALWARE_FAKENOTIFY          6743\n",
       "SCAREWARE_PENETHO              6545\n",
       "SMSMALWARE_FAKEINST            4531\n",
       "ADWARE_SELFMITE                3818\n",
       "SMSMALWARE_BEANBOT             3782\n",
       "SMSMALWARE_ZSONE               2880\n",
       "SCAREWARE                      2272\n",
       "SMSMALWARE_FAKEMART            2021\n",
       "SMSMALWARE_JIFAKE              1825\n",
       "SMSMALWARE_MAZARBOT            1791\n",
       "RANSOMWARE_PLETOR              1420\n",
       "MALWARE                         853\n",
       "Name: Label, dtype: int64"
      ]
     },
     "execution_count": 5,
     "metadata": {},
     "output_type": "execute_result"
    }
   ],
   "source": [
    "\n",
    "dataset['Label'].value_counts()\n"
   ]
  },
  {
   "cell_type": "code",
   "execution_count": 2,
   "id": "f2001a5e",
   "metadata": {},
   "outputs": [
    {
     "ename": "NameError",
     "evalue": "name 'dataset' is not defined",
     "output_type": "error",
     "traceback": [
      "\u001b[0;31m---------------------------------------------------------------------------\u001b[0m",
      "\u001b[0;31mNameError\u001b[0m                                 Traceback (most recent call last)",
      "Input \u001b[0;32mIn [2]\u001b[0m, in \u001b[0;36m<cell line: 2>\u001b[0;34m()\u001b[0m\n\u001b[1;32m      1\u001b[0m \u001b[38;5;66;03m#Cleaning\u001b[39;00m\n\u001b[0;32m----> 2\u001b[0m \u001b[43mdataset\u001b[49m\u001b[38;5;241m.\u001b[39misnull()\u001b[38;5;241m.\u001b[39msum()\n\u001b[1;32m      3\u001b[0m dataset\u001b[38;5;241m.\u001b[39mreplace([np\u001b[38;5;241m.\u001b[39minf, \u001b[38;5;241m-\u001b[39mnp\u001b[38;5;241m.\u001b[39minf], np\u001b[38;5;241m.\u001b[39mnan, inplace\u001b[38;5;241m=\u001b[39m\u001b[38;5;28;01mTrue\u001b[39;00m)\n\u001b[1;32m      4\u001b[0m dataset\u001b[38;5;241m.\u001b[39mfillna(\u001b[38;5;241m999\u001b[39m, inplace\u001b[38;5;241m=\u001b[39m\u001b[38;5;28;01mTrue\u001b[39;00m)\n",
      "\u001b[0;31mNameError\u001b[0m: name 'dataset' is not defined"
     ]
    }
   ],
   "source": [
    "#Cleaning\n",
    "dataset.isnull().sum()\n",
    "dataset.replace([np.inf, -np.inf], np.nan, inplace=True)\n",
    "dataset.fillna(999, inplace=True)\n",
    "\n",
    "label_encoder = LabelEncoder()\n",
    "dataset[\"Label\"] = label_encoder.fit_transform(dataset[\"Label\"].astype(str))\n",
    "dataset[\"Packet Length Std\"] = label_encoder.fit_transform(dataset[\"Packet Length Std\"])\n",
    "dataset[\"CWE Flag Count\"] = label_encoder.fit_transform(dataset[\"CWE Flag Count\"].astype(str))\n",
    "dataset.shape\n",
    "dtypes_by_group = dataset.columns.to_series().groupby(dataset.dtypes).groups\n",
    "print(dtypes_by_group)"
   ]
  },
  {
   "cell_type": "code",
   "execution_count": 1,
   "id": "7599c2bc",
   "metadata": {},
   "outputs": [
    {
     "ename": "NameError",
     "evalue": "name 'label_encoder' is not defined",
     "output_type": "error",
     "traceback": [
      "\u001b[0;31m---------------------------------------------------------------------------\u001b[0m",
      "\u001b[0;31mNameError\u001b[0m                                 Traceback (most recent call last)",
      "Input \u001b[0;32mIn [1]\u001b[0m, in \u001b[0;36m<cell line: 1>\u001b[0;34m()\u001b[0m\n\u001b[0;32m----> 1\u001b[0m dataset[\u001b[38;5;124m'\u001b[39m\u001b[38;5;124mLabel\u001b[39m\u001b[38;5;124m'\u001b[39m] \u001b[38;5;241m=\u001b[39m \u001b[43mlabel_encoder\u001b[49m\u001b[38;5;241m.\u001b[39mfit_transform(dataset[\u001b[38;5;124m'\u001b[39m\u001b[38;5;124mLabel\u001b[39m\u001b[38;5;124m'\u001b[39m])\n\u001b[1;32m      2\u001b[0m dataset\u001b[38;5;241m.\u001b[39mLabel\u001b[38;5;241m.\u001b[39munique()\n",
      "\u001b[0;31mNameError\u001b[0m: name 'label_encoder' is not defined"
     ]
    }
   ],
   "source": [
    "dataset['Label'] = label_encoder.fit_transform(dataset['Label'])\n",
    "dataset.Label.unique()"
   ]
  },
  {
   "cell_type": "code",
   "execution_count": 7,
   "id": "ef1975d3",
   "metadata": {},
   "outputs": [
    {
     "name": "stdout",
     "output_type": "stream",
     "text": [
      "(382538, 82) (163946, 82) (382538,) (163946,)\n"
     ]
    }
   ],
   "source": [
    "#Spliting Dataset\n",
    "A = dataset.drop(columns=[\"Label\", \"Flow ID\",\"Source IP\",\"Fwd Avg Bytes/Bulk\",\"Destination IP\",\"Timestamp\"])\n",
    "B = dataset[\"Label\"]\n",
    "\n",
    "A_train, A_test, B_train, B_test = train_test_split(A,B,test_size=0.3)\n",
    "print(A_train.shape, A_test.shape, B_train.shape, B_test.shape)"
   ]
  },
  {
   "cell_type": "code",
   "execution_count": 8,
   "id": "35b34182",
   "metadata": {},
   "outputs": [],
   "source": [
    "#scaling Dataset\n",
    "scaler = MinMaxScaler()\n",
    "A_train = scaler.fit_transform(A_train)\n",
    "A_test = scaler.transform(A_test)"
   ]
  },
  {
   "cell_type": "code",
   "execution_count": 34,
   "id": "26735fb1",
   "metadata": {},
   "outputs": [
    {
     "name": "stdout",
     "output_type": "stream",
     "text": [
      "0.9999268051675552\n",
      "1.0\n"
     ]
    }
   ],
   "source": [
    "#Decision Tree\n",
    "modelDT = DecisionTreeClassifier()\n",
    "modelDT.fit(A_train, B_train)\n",
    "predictionsDT = modelDT.predict(A_test)\n",
    "accuracyDT = accuracy_score(B_test, predictionsDT)\n",
    "scoreDT = modelDT.score(A_train, B_train)\n",
    "print(accuracyDT)\n",
    "print(scoreDT)\n"
   ]
  },
  {
   "cell_type": "code",
   "execution_count": 14,
   "id": "80b29ed9",
   "metadata": {},
   "outputs": [
    {
     "name": "stdout",
     "output_type": "stream",
     "text": [
      "Score: 0.9999667313388009\n"
     ]
    },
    {
     "ename": "ValueError",
     "evalue": "y_true and y_pred have different number of output (82!=1)",
     "output_type": "error",
     "traceback": [
      "\u001b[0;31m---------------------------------------------------------------------------\u001b[0m",
      "\u001b[0;31mValueError\u001b[0m                                Traceback (most recent call last)",
      "Input \u001b[0;32mIn [14]\u001b[0m, in \u001b[0;36m<cell line: 8>\u001b[0;34m()\u001b[0m\n\u001b[1;32m      6\u001b[0m scoreRF \u001b[38;5;241m=\u001b[39m modelRF\u001b[38;5;241m.\u001b[39mscore(A_train, B_train)\n\u001b[1;32m      7\u001b[0m \u001b[38;5;28mprint\u001b[39m(\u001b[38;5;124m'\u001b[39m\u001b[38;5;124mScore:\u001b[39m\u001b[38;5;124m'\u001b[39m, scoreRF)\n\u001b[0;32m----> 8\u001b[0m \u001b[38;5;28mprint\u001b[39m(\u001b[38;5;124m'\u001b[39m\u001b[38;5;124mMean Absolute Error:\u001b[39m\u001b[38;5;124m'\u001b[39m, \u001b[43mmean_absolute_error\u001b[49m\u001b[43m(\u001b[49m\u001b[43mA_test\u001b[49m\u001b[43m,\u001b[49m\u001b[43m \u001b[49m\u001b[43mpredictionsRF\u001b[49m\u001b[43m)\u001b[49m)\n\u001b[1;32m      9\u001b[0m \u001b[38;5;28mprint\u001b[39m(\u001b[38;5;124m'\u001b[39m\u001b[38;5;124mMean Squared Error:\u001b[39m\u001b[38;5;124m'\u001b[39m, mean_squared_error(A_test, predictionsRF))\n\u001b[1;32m     10\u001b[0m \u001b[38;5;28mprint\u001b[39m(\u001b[38;5;124m'\u001b[39m\u001b[38;5;124mRoot Mean Squared Error:\u001b[39m\u001b[38;5;124m'\u001b[39m, np\u001b[38;5;241m.\u001b[39msqrt(mean_squared_error(A_test, predictionsRF)))\n",
      "File \u001b[0;32m~/opt/anaconda3/lib/python3.9/site-packages/sklearn/metrics/_regression.py:191\u001b[0m, in \u001b[0;36mmean_absolute_error\u001b[0;34m(y_true, y_pred, sample_weight, multioutput)\u001b[0m\n\u001b[1;32m    135\u001b[0m \u001b[38;5;28;01mdef\u001b[39;00m \u001b[38;5;21mmean_absolute_error\u001b[39m(\n\u001b[1;32m    136\u001b[0m     y_true, y_pred, \u001b[38;5;241m*\u001b[39m, sample_weight\u001b[38;5;241m=\u001b[39m\u001b[38;5;28;01mNone\u001b[39;00m, multioutput\u001b[38;5;241m=\u001b[39m\u001b[38;5;124m\"\u001b[39m\u001b[38;5;124muniform_average\u001b[39m\u001b[38;5;124m\"\u001b[39m\n\u001b[1;32m    137\u001b[0m ):\n\u001b[1;32m    138\u001b[0m     \u001b[38;5;124;03m\"\"\"Mean absolute error regression loss.\u001b[39;00m\n\u001b[1;32m    139\u001b[0m \n\u001b[1;32m    140\u001b[0m \u001b[38;5;124;03m    Read more in the :ref:`User Guide <mean_absolute_error>`.\u001b[39;00m\n\u001b[0;32m   (...)\u001b[0m\n\u001b[1;32m    189\u001b[0m \u001b[38;5;124;03m    0.85...\u001b[39;00m\n\u001b[1;32m    190\u001b[0m \u001b[38;5;124;03m    \"\"\"\u001b[39;00m\n\u001b[0;32m--> 191\u001b[0m     y_type, y_true, y_pred, multioutput \u001b[38;5;241m=\u001b[39m \u001b[43m_check_reg_targets\u001b[49m\u001b[43m(\u001b[49m\n\u001b[1;32m    192\u001b[0m \u001b[43m        \u001b[49m\u001b[43my_true\u001b[49m\u001b[43m,\u001b[49m\u001b[43m \u001b[49m\u001b[43my_pred\u001b[49m\u001b[43m,\u001b[49m\u001b[43m \u001b[49m\u001b[43mmultioutput\u001b[49m\n\u001b[1;32m    193\u001b[0m \u001b[43m    \u001b[49m\u001b[43m)\u001b[49m\n\u001b[1;32m    194\u001b[0m     check_consistent_length(y_true, y_pred, sample_weight)\n\u001b[1;32m    195\u001b[0m     output_errors \u001b[38;5;241m=\u001b[39m np\u001b[38;5;241m.\u001b[39maverage(np\u001b[38;5;241m.\u001b[39mabs(y_pred \u001b[38;5;241m-\u001b[39m y_true), weights\u001b[38;5;241m=\u001b[39msample_weight, axis\u001b[38;5;241m=\u001b[39m\u001b[38;5;241m0\u001b[39m)\n",
      "File \u001b[0;32m~/opt/anaconda3/lib/python3.9/site-packages/sklearn/metrics/_regression.py:105\u001b[0m, in \u001b[0;36m_check_reg_targets\u001b[0;34m(y_true, y_pred, multioutput, dtype)\u001b[0m\n\u001b[1;32m    102\u001b[0m     y_pred \u001b[38;5;241m=\u001b[39m y_pred\u001b[38;5;241m.\u001b[39mreshape((\u001b[38;5;241m-\u001b[39m\u001b[38;5;241m1\u001b[39m, \u001b[38;5;241m1\u001b[39m))\n\u001b[1;32m    104\u001b[0m \u001b[38;5;28;01mif\u001b[39;00m y_true\u001b[38;5;241m.\u001b[39mshape[\u001b[38;5;241m1\u001b[39m] \u001b[38;5;241m!=\u001b[39m y_pred\u001b[38;5;241m.\u001b[39mshape[\u001b[38;5;241m1\u001b[39m]:\n\u001b[0;32m--> 105\u001b[0m     \u001b[38;5;28;01mraise\u001b[39;00m \u001b[38;5;167;01mValueError\u001b[39;00m(\n\u001b[1;32m    106\u001b[0m         \u001b[38;5;124m\"\u001b[39m\u001b[38;5;124my_true and y_pred have different number of output (\u001b[39m\u001b[38;5;132;01m{0}\u001b[39;00m\u001b[38;5;124m!=\u001b[39m\u001b[38;5;132;01m{1}\u001b[39;00m\u001b[38;5;124m)\u001b[39m\u001b[38;5;124m\"\u001b[39m\u001b[38;5;241m.\u001b[39mformat(\n\u001b[1;32m    107\u001b[0m             y_true\u001b[38;5;241m.\u001b[39mshape[\u001b[38;5;241m1\u001b[39m], y_pred\u001b[38;5;241m.\u001b[39mshape[\u001b[38;5;241m1\u001b[39m]\n\u001b[1;32m    108\u001b[0m         )\n\u001b[1;32m    109\u001b[0m     )\n\u001b[1;32m    111\u001b[0m n_outputs \u001b[38;5;241m=\u001b[39m y_true\u001b[38;5;241m.\u001b[39mshape[\u001b[38;5;241m1\u001b[39m]\n\u001b[1;32m    112\u001b[0m allowed_multioutput_str \u001b[38;5;241m=\u001b[39m (\u001b[38;5;124m\"\u001b[39m\u001b[38;5;124mraw_values\u001b[39m\u001b[38;5;124m\"\u001b[39m, \u001b[38;5;124m\"\u001b[39m\u001b[38;5;124muniform_average\u001b[39m\u001b[38;5;124m\"\u001b[39m, \u001b[38;5;124m\"\u001b[39m\u001b[38;5;124mvariance_weighted\u001b[39m\u001b[38;5;124m\"\u001b[39m)\n",
      "\u001b[0;31mValueError\u001b[0m: y_true and y_pred have different number of output (82!=1)"
     ]
    }
   ],
   "source": [
    "#Random Forest Model\n",
    "from sklearn.ensemble import RandomForestRegressor\n",
    "modelRF = RandomForestRegressor(n_estimators = 30, random_state=30)\n",
    "modelRF.fit(A_train, B_train)\n",
    "predictionsRF = modelRF.predict(A_test)\n",
    "scoreRF = modelRF.score(A_train, B_train)\n",
    "print('Score:', scoreRF)\n",
    "print('Mean Absolute Error:', mean_absolute_error(A_test, predictionsRF))\n",
    "print('Mean Squared Error:', mean_squared_error(A_test, predictionsRF))\n",
    "print('Root Mean Squared Error:', np.sqrt(mean_squared_error(A_test, predictionsRF)))\n"
   ]
  },
  {
   "cell_type": "code",
   "execution_count": 36,
   "id": "3fe6e563",
   "metadata": {},
   "outputs": [
    {
     "name": "stdout",
     "output_type": "stream",
     "text": [
      "0.22892293804057434\n",
      "0.22884785302375188\n"
     ]
    }
   ],
   "source": [
    "#Naive Bayes\n",
    "from sklearn.naive_bayes import MultinomialNB\n",
    "modelMNB = MultinomialNB()\n",
    "modelMNB.fit(A_train, B_train)\n",
    "predictionsMNB = modelMNB.predict(A_test)\n",
    "accuracyMNB = accuracy_score(B_test, predictionsMNB)\n",
    "scoreMNB = modelMNB.score(A_train, B_train)\n",
    "print(accuracyMNB)\n",
    "print(scoreMNB)"
   ]
  },
  {
   "cell_type": "code",
   "execution_count": 38,
   "id": "9b822fdd",
   "metadata": {},
   "outputs": [
    {
     "name": "stderr",
     "output_type": "stream",
     "text": [
      "/Users/mourin/opt/anaconda3/lib/python3.9/site-packages/sklearn/linear_model/_logistic.py:814: ConvergenceWarning: lbfgs failed to converge (status=1):\n",
      "STOP: TOTAL NO. of ITERATIONS REACHED LIMIT.\n",
      "\n",
      "Increase the number of iterations (max_iter) or scale the data as shown in:\n",
      "    https://scikit-learn.org/stable/modules/preprocessing.html\n",
      "Please also refer to the documentation for alternative solver options:\n",
      "    https://scikit-learn.org/stable/modules/linear_model.html#logistic-regression\n",
      "  n_iter_i = _check_optimize_result(\n"
     ]
    },
    {
     "name": "stdout",
     "output_type": "stream",
     "text": [
      "0.8014529174240299\n",
      "0.8013216987593389\n"
     ]
    }
   ],
   "source": [
    "#Logistic Regression\n",
    "from sklearn.linear_model import LogisticRegression\n",
    "modelLR = LogisticRegression()\n",
    "modelLR.fit(A_train, B_train)\n",
    "predictionsLR = modelLR.predict(A_test)\n",
    "accuracyLR = accuracy_score(B_test, predictionsLR)\n",
    "scoreLR = modelLR.score(A_train, B_train)\n",
    "print(accuracyLR)\n",
    "print(scoreLR)"
   ]
  },
  {
   "cell_type": "code",
   "execution_count": 42,
   "id": "acad7680",
   "metadata": {},
   "outputs": [
    {
     "name": "stdout",
     "output_type": "stream",
     "text": [
      "0.8498530003781734\n",
      "0.9102311404357214\n"
     ]
    }
   ],
   "source": [
    "#KNN\n",
    "from sklearn.neighbors import KNeighborsClassifier\n",
    "modelKNN = KNeighborsClassifier(\n",
    "    n_neighbors=5, \n",
    "    weights='uniform',algorithm='auto', \n",
    "    leaf_size=30, p=2, \n",
    "    metric = 'minkowski', metric_params=None,\n",
    "    n_jobs=None )\n",
    "modelKNN.fit(A_train, B_train)\n",
    "predictionsKNN = modelKNN.predict(A_test)\n",
    "accuracyKNN = accuracy_score(B_test, predictionsKNN)\n",
    "scoreKNN = modelKNN.score(A_train, B_train)\n",
    "print(accuracyKNN)\n",
    "print(scoreKNN)"
   ]
  },
  {
   "cell_type": "code",
   "execution_count": 40,
   "id": "c5d7939e",
   "metadata": {},
   "outputs": [
    {
     "name": "stdout",
     "output_type": "stream",
     "text": [
      "0.32453978749100315\n",
      "0.3253898959057662\n"
     ]
    }
   ],
   "source": [
    "#Ada-Boost\n",
    "from sklearn.ensemble import AdaBoostClassifier\n",
    "modelADB = AdaBoostClassifier(n_estimators=100, learning_rate=1)\n",
    "modelADB.fit(A_train, B_train)\n",
    "predictionsADB = modelADB.predict(A_test)\n",
    "accuracyADB = accuracy_score(B_test, predictionsADB)\n",
    "scoreADB = modelADB.score(A_train, B_train)\n",
    "print(accuracyADB)\n",
    "print(scoreADB)\n"
   ]
  },
  {
   "cell_type": "code",
   "execution_count": null,
   "id": "67eeb246",
   "metadata": {},
   "outputs": [],
   "source": [
    "#SVM\n",
    "modelSVM = svm.SVC(kernel='linear', gamma='auto',C=2)\n",
    "modelSVM.fit(A_train, B_train)\n",
    "predictionsSVM = modelSVM.predict(A_test)\n",
    "accuracySVM = accuracy_score(B_test, predictionsSVM)\n",
    "scoreSVM = modelSVM.score(A_train, B_train)\n",
    "print(accuracySVM)\n",
    "print(scoreSVM)"
   ]
  },
  {
   "cell_type": "code",
   "execution_count": null,
   "id": "fd6a8d53",
   "metadata": {},
   "outputs": [],
   "source": [
    "# Bar Plot on Label Data\n",
    "    \n",
    "plt.figure(figsize=(16, 8))\n",
    "count = dataset['Label'].value_counts()\n",
    "sns.set(style=\"darkgrid\")\n",
    "sns.barplot(count.index, count.values, alpha=0.9)\n",
    "plt.title('Frequency Distribution', fontsize=20)\n",
    "plt.ylabel('Number of Items', fontsize=15)\n",
    "plt.xlabel('Benign or Malware family)', fontsize=15)\n",
    "plt.xticks(rotation=90)\n",
    "plt.show()\n",
    "    "
   ]
  },
  {
   "cell_type": "code",
   "execution_count": null,
   "id": "c8cda53c",
   "metadata": {},
   "outputs": [],
   "source": []
  }
 ],
 "metadata": {
  "kernelspec": {
   "display_name": "Python 3 (ipykernel)",
   "language": "python",
   "name": "python3"
  },
  "language_info": {
   "codemirror_mode": {
    "name": "ipython",
    "version": 3
   },
   "file_extension": ".py",
   "mimetype": "text/x-python",
   "name": "python",
   "nbconvert_exporter": "python",
   "pygments_lexer": "ipython3",
   "version": "3.9.12"
  }
 },
 "nbformat": 4,
 "nbformat_minor": 5
}
